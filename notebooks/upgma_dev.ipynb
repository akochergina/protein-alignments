{
 "cells": [
  {
   "cell_type": "code",
   "execution_count": 1,
   "metadata": {},
   "outputs": [],
   "source": [
    "%load_ext autoreload\n",
    "%autoreload 2\n",
    "\n",
    "import sys\n",
    "import os\n",
    "\n",
    "# Add the parent directory to the path so we can import the module\n",
    "sys.path.append(os.path.abspath(os.path.join('..')))"
   ]
  },
  {
   "cell_type": "code",
   "execution_count": 3,
   "metadata": {},
   "outputs": [],
   "source": [
    "import modules.needleman_wunsch as nw"
   ]
  },
  {
   "cell_type": "code",
   "execution_count": 8,
   "metadata": {},
   "outputs": [],
   "source": [
    "def mat_distances(liste_de_sequences, blosum_m, gap_opening_score, gap_extension_score, print_result=False, identity_score=1, substitution_score=-1):\n",
    "  \"\"\"\n",
    "    Compute a pairwise distance matrix for the given sequences.\n",
    "\n",
    "    Parameters:\n",
    "    ----------\n",
    "    sequence_list : list of str\n",
    "        A list of sequences to compare.\n",
    "    cost_fun : function\n",
    "        A function that computes the alignment cost between two sequences.\n",
    "\n",
    "    Returns:\n",
    "    -------\n",
    "    distance_matrix : list of list of int\n",
    "        A symmetric matrix containing the pairwise distances between sequences.\n",
    "    \"\"\"\n",
    "  matD=[[0 for j in range(len(liste_de_sequences))] for i in range(len(liste_de_sequences))]\n",
    "  for i in range(len(liste_de_sequences)):\n",
    "    for j in range(len(liste_de_sequences)):\n",
    "      if j>=i:\n",
    "        # matD[i][j]=seq_align(liste_de_sequences[i], liste_de_sequences[j], cost_fun)[0]\n",
    "        matD[i][j], align =nw.needleman_wunsch([liste_de_sequences[i], liste_de_sequences[j]], blosum_m, gap_opening_score, gap_extension_score, print_result=False, identity_score=1, substitution_score=-1)\n",
    "        print(\"Alignement entre \", liste_de_sequences[i], \" et \", liste_de_sequences[j], \" : \", align)\n",
    "        print(\"Score : \", matD[i][j])  \n",
    "        matD[j][i]=matD[i][j]\n",
    "  return matD\n"
   ]
  },
  {
   "cell_type": "code",
   "execution_count": null,
   "metadata": {},
   "outputs": [],
   "source": []
  },
  {
   "cell_type": "code",
   "execution_count": 18,
   "metadata": {},
   "outputs": [
    {
     "name": "stdout",
     "output_type": "stream",
     "text": [
      "Alignement entre  CHAT  et  CHAT  :  ['CHAT', 'CHAT']\n",
      "Score :  4.0\n",
      "Alignement entre  CHAT  et  CAT  :  ['C-AT', 'CHAT']\n",
      "Score :  -1.0\n",
      "Alignement entre  CHAT  et  HER  :  ['-HER', 'CHAT']\n",
      "Score :  -5.0\n",
      "Alignement entre  CAT  et  CAT  :  ['CAT', 'CAT']\n",
      "Score :  3.0\n",
      "Alignement entre  CAT  et  HER  :  ['HER', 'CAT']\n",
      "Score :  -3.0\n",
      "Alignement entre  HER  et  HER  :  ['HER', 'HER']\n",
      "Score :  3.0\n"
     ]
    }
   ],
   "source": [
    "gapPenalty=-4\n",
    "identity=1\n",
    "substitution=-1\n",
    "sequence_list = [\"CHAT\",\"CAT\",\"HER\"]\n",
    "\n",
    "matrix = mat_distances(sequence_list, False, gapPenalty, gapPenalty, print_result=False, identity_score=identity, substitution_score=substitution)"
   ]
  },
  {
   "cell_type": "code",
   "execution_count": 19,
   "metadata": {},
   "outputs": [
    {
     "name": "stdout",
     "output_type": "stream",
     "text": [
      "Alignments:\n",
      "CHAT\n",
      "CAT\n",
      "Score :  -1.0\n"
     ]
    }
   ],
   "source": [
    "score, align = nw.needleman_wunsch([\"CAT\", \"CHAT\"], False, gapPenalty, gapPenalty, print_result=False, identity_score=identity, substitution_score=substitution)\n",
    "nw.print_alignments(align)\n",
    "print(\"Score : \", score)"
   ]
  },
  {
   "cell_type": "code",
   "execution_count": 24,
   "metadata": {},
   "outputs": [],
   "source": [
    "import matplotlib.pyplot as plt\n",
    "import seaborn as sns\n",
    "import pandas as pd\n",
    "\n",
    "def print_dist_matrix(matrix, sequences):\n",
    "    fig, ax = plt.subplots(figsize=(8, 6))\n",
    "    \n",
    "    # Convert matrix to numpy array, replacing None with 0\n",
    "    matrix_df = pd.DataFrame(matrix)\n",
    "    matrix_np = matrix_df.fillna(0).to_numpy()\n",
    "\n",
    "    row_labels = sequences\n",
    "    col_labels = sequences\n",
    "\n",
    "    # Create a heatmap with custom labels\n",
    "    sns.heatmap(matrix_np.astype(float), annot=True, fmt=\".0f\", cmap=\"Blues\", linewidths=0.5, \n",
    "                ax=ax, cbar=False, xticklabels=col_labels, yticklabels=row_labels)\n",
    "    \n",
    "    ax.xaxis.set_ticks_position(\"top\")\n",
    "    ax.xaxis.set_label_position(\"top\")\n",
    "\n",
    "    ax.set_title(\"Distance matrix\")\n",
    "    plt.show()"
   ]
  },
  {
   "cell_type": "code",
   "execution_count": 25,
   "metadata": {},
   "outputs": [
    {
     "data": {
      "image/png": "[encoded data removed]",
      "text/plain": [
       "<Figure size 800x600 with 1 Axes>"
      ]
     },
     "metadata": {},
     "output_type": "display_data"
    }
   ],
   "source": [
    "print_dist_matrix(matrix, sequence_list)"
   ]
  },
  {
   "cell_type": "code",
   "execution_count": null,
   "metadata": {},
   "outputs": [],
   "source": []
  }
 ],
 "metadata": {
  "kernelspec": {
   "display_name": "Python 3",
   "language": "python",
   "name": "python3"
  },
  "language_info": {
   "codemirror_mode": {
    "name": "ipython",
    "version": 3
   },
   "file_extension": ".py",
   "mimetype": "text/x-python",
   "name": "python",
   "nbconvert_exporter": "python",
   "pygments_lexer": "ipython3",
   "version": "3.11.1"
  }
 },
 "nbformat": 4,
 "nbformat_minor": 2
}
