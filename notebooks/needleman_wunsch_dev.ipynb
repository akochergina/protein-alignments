{
 "cells": [
  {
   "cell_type": "code",
   "execution_count": 1,
   "metadata": {},
   "outputs": [],
   "source": [
    "import sys\n",
    "import os\n",
    "\n",
    "# Add the parent directory to the path so we can import the module\n",
    "sys.path.append(os.path.abspath(os.path.join('..')))"
   ]
  },
  {
   "cell_type": "code",
   "execution_count": 2,
   "metadata": {},
   "outputs": [],
   "source": [
    "\n",
    "from modules.needleman_wunsch import needleman_wunsch as nw"
   ]
  },
  {
   "cell_type": "code",
   "execution_count": 3,
   "metadata": {},
   "outputs": [
    {
     "name": "stdout",
     "output_type": "stream",
     "text": [
      "    0   1   2   3\n",
      "0   0  -2  -4  -6\n",
      "1  -2   1  -1  -3\n",
      "2  -4  -1   0  -2\n",
      "3  -6  -3   0  -1\n",
      "4  -8  -5  -2   1\n",
      "          0         1         2                 3\n",
      "0      None  [(0, 0)]  [(0, 1)]          [(0, 2)]\n",
      "1  [(0, 0)]  [(0, 0)]  [(1, 1)]          [(1, 2)]\n",
      "2  [(1, 0)]  [(1, 1)]  [(1, 1)]  [(1, 2), (2, 2)]\n",
      "3  [(2, 0)]  [(2, 1)]  [(2, 1)]          [(2, 2)]\n",
      "4  [(3, 0)]  [(3, 1)]  [(3, 2)]          [(3, 2)]\n"
     ]
    },
    {
     "data": {
      "text/plain": [
       "(1, 'CHAT', 'C-AT')"
      ]
     },
     "execution_count": 3,
     "metadata": {},
     "output_type": "execute_result"
    }
   ],
   "source": [
    "nw(\"CHAT\", \"CAT\", 1, -1, -2)"
   ]
  },
  {
   "cell_type": "code",
   "execution_count": 4,
   "metadata": {},
   "outputs": [
    {
     "name": "stdout",
     "output_type": "stream",
     "text": [
      "    0   1   2   3\n",
      "0   0  -2  -4  -6\n",
      "1  -2   1  -1  -3\n",
      "2  -4  -1   0  -2\n",
      "3  -6  -3   0  -1\n",
      "4  -8  -5  -2   1\n",
      "          0         1         2                 3\n",
      "0      None  [(0, 0)]  [(0, 1)]          [(0, 2)]\n",
      "1  [(0, 0)]  [(0, 0)]  [(1, 1)]          [(1, 2)]\n",
      "2  [(1, 0)]  [(1, 1)]  [(1, 1)]  [(1, 2), (2, 2)]\n",
      "3  [(2, 0)]  [(2, 1)]  [(2, 1)]          [(2, 2)]\n",
      "4  [(3, 0)]  [(3, 1)]  [(3, 2)]          [(3, 2)]\n",
      "Alignment is: \n",
      "ACGT\n",
      "A-GT\n"
     ]
    },
    {
     "name": "stderr",
     "output_type": "stream",
     "text": [
      "/Library/Frameworks/Python.framework/Versions/3.11/lib/python3.11/site-packages/Bio/pairwise2.py:278: BiopythonDeprecationWarning: Bio.pairwise2 has been deprecated, and we intend to remove it in a future release of Biopython. As an alternative, please consider using Bio.Align.PairwiseAligner as a replacement, and contact the Biopython developers if you still need the Bio.pairwise2 module.\n",
      "  warnings.warn(\n"
     ]
    }
   ],
   "source": [
    "sys.path.append(os.path.abspath(os.path.join(os.getcwd(), 'tests')))  # Добавляет tests/\n",
    "from tests.test_needleman_wunsch import test_needleman_wunsch_basic, test_needleman_wunsch_vs_biopython"
   ]
  },
  {
   "cell_type": "code",
   "execution_count": 5,
   "metadata": {},
   "outputs": [
    {
     "name": "stdout",
     "output_type": "stream",
     "text": [
      "    0   1   2   3\n",
      "0   0  -2  -4  -6\n",
      "1  -2   1  -1  -3\n",
      "2  -4  -1   0  -2\n",
      "3  -6  -3   0  -1\n",
      "4  -8  -5  -2   1\n",
      "          0         1         2                 3\n",
      "0      None  [(0, 0)]  [(0, 1)]          [(0, 2)]\n",
      "1  [(0, 0)]  [(0, 0)]  [(1, 1)]          [(1, 2)]\n",
      "2  [(1, 0)]  [(1, 1)]  [(1, 1)]  [(1, 2), (2, 2)]\n",
      "3  [(2, 0)]  [(2, 1)]  [(2, 1)]          [(2, 2)]\n",
      "4  [(3, 0)]  [(3, 1)]  [(3, 2)]          [(3, 2)]\n",
      "Alignment is: \n",
      "ACGT\n",
      "A-GT\n"
     ]
    }
   ],
   "source": [
    "test_needleman_wunsch_basic()"
   ]
  },
  {
   "cell_type": "code",
   "execution_count": 6,
   "metadata": {},
   "outputs": [
    {
     "name": "stdout",
     "output_type": "stream",
     "text": [
      "    0   1   2   3\n",
      "0   0  -2  -4  -6\n",
      "1  -2   1  -1  -3\n",
      "2  -4  -1   0  -2\n",
      "3  -6  -3   0  -1\n",
      "4  -8  -5  -2   1\n",
      "          0         1         2                 3\n",
      "0      None  [(0, 0)]  [(0, 1)]          [(0, 2)]\n",
      "1  [(0, 0)]  [(0, 0)]  [(1, 1)]          [(1, 2)]\n",
      "2  [(1, 0)]  [(1, 1)]  [(1, 1)]  [(1, 2), (2, 2)]\n",
      "3  [(2, 0)]  [(2, 1)]  [(2, 1)]          [(2, 2)]\n",
      "4  [(3, 0)]  [(3, 1)]  [(3, 2)]          [(3, 2)]\n",
      "Alignment is: \n",
      "ACGT\n",
      "A-GT\n",
      "Biopython alignment is: \n",
      "ACGT\n",
      "A-GT\n"
     ]
    }
   ],
   "source": [
    "test_needleman_wunsch_vs_biopython()"
   ]
  },
  {
   "cell_type": "code",
   "execution_count": null,
   "metadata": {},
   "outputs": [],
   "source": []
  }
 ],
 "metadata": {
  "kernelspec": {
   "display_name": "Python 3",
   "language": "python",
   "name": "python3"
  },
  "language_info": {
   "codemirror_mode": {
    "name": "ipython",
    "version": 3
   },
   "file_extension": ".py",
   "mimetype": "text/x-python",
   "name": "python",
   "nbconvert_exporter": "python",
   "pygments_lexer": "ipython3",
   "version": "3.11.1"
  }
 },
 "nbformat": 4,
 "nbformat_minor": 2
}
