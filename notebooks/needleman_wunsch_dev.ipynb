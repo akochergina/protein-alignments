{
 "cells": [
  {
   "cell_type": "code",
   "execution_count": 18,
   "metadata": {},
   "outputs": [],
   "source": [
    "import sys\n",
    "import os\n",
    "\n",
    "# Add the parent directory to the path so we can import the module\n",
    "sys.path.append(os.path.abspath(os.path.join('..')))"
   ]
  },
  {
   "cell_type": "code",
   "execution_count": 13,
   "metadata": {},
   "outputs": [],
   "source": [
    "\n",
    "from modules.needleman_wunsch import needleman_wunsch as nw, fill_needleman_wunsch_matrix"
   ]
  },
  {
   "cell_type": "code",
   "execution_count": 14,
   "metadata": {},
   "outputs": [
    {
     "name": "stdout",
     "output_type": "stream",
     "text": [
      "    0   1   2   3\n",
      "0   0  -2  -4  -6\n",
      "1  -2   1  -1  -3\n",
      "2  -4  -1   0  -2\n",
      "3  -6  -3   0  -1\n",
      "4  -8  -5  -2   1\n",
      "          0         1         2                 3\n",
      "0      None  [(0, 0)]  [(0, 1)]          [(0, 2)]\n",
      "1  [(0, 0)]  [(0, 0)]  [(1, 1)]          [(1, 2)]\n",
      "2  [(1, 0)]  [(1, 1)]  [(1, 1)]  [(1, 2), (2, 2)]\n",
      "3  [(2, 0)]  [(2, 1)]  [(2, 1)]          [(2, 2)]\n",
      "4  [(3, 0)]  [(3, 1)]  [(3, 2)]          [(3, 2)]\n"
     ]
    },
    {
     "data": {
      "text/plain": [
       "(1, 'CHAT', 'C-AT')"
      ]
     },
     "execution_count": 14,
     "metadata": {},
     "output_type": "execute_result"
    }
   ],
   "source": [
    "nw(\"CHAT\", \"CAT\", 1, -1, -2)"
   ]
  },
  {
   "cell_type": "code",
   "execution_count": 22,
   "metadata": {},
   "outputs": [],
   "source": [
    "sys.path.append(os.path.abspath(os.path.join(os.getcwd(), 'tests')))  # Добавляет tests/\n",
    "from tests.test_needleman_wunsch import test_needleman_wunsch_basic"
   ]
  },
  {
   "cell_type": "code",
   "execution_count": null,
   "metadata": {},
   "outputs": [],
   "source": [
    "test_needleman_wunsch_basic()"
   ]
  }
 ],
 "metadata": {
  "kernelspec": {
   "display_name": "Python 3",
   "language": "python",
   "name": "python3"
  },
  "language_info": {
   "codemirror_mode": {
    "name": "ipython",
    "version": 3
   },
   "file_extension": ".py",
   "mimetype": "text/x-python",
   "name": "python",
   "nbconvert_exporter": "python",
   "pygments_lexer": "ipython3",
   "version": "3.11.1"
  }
 },
 "nbformat": 4,
 "nbformat_minor": 2
}
