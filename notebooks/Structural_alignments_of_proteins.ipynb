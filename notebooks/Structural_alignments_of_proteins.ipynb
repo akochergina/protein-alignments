{
  "nbformat": 4,
  "nbformat_minor": 0,
  "metadata": {
    "colab": {
      "provenance": []
    },
    "kernelspec": {
      "name": "python3",
      "display_name": "Python 3"
    },
    "language_info": {
      "name": "python"
    }
  },
  "cells": [
    {
      "cell_type": "markdown",
      "source": [
        "# ***Alignements structuraux de protéines***\n",
        "\n",
        "Les alignements de séquences de protéines et d’acides nucléiques sont un outil essentiel\n",
        "en bioinformatique, permettant de mettre en évidence des positions conservées et de faire des\n",
        "hypothèses structurales, évolutionnistes ou fonctionnelles. Lorsque la structure des biomolécules\n",
        "est connue, cette information peut être prise en compte pour améliorer la qualité des alignements\n",
        "de séquences. On se propose d’écrire un programme d’alignements de séquences de protéines\n",
        "utilisant l’information structurale et d’évaluer sa performance.\n",
        "\n",
        "Les séquences que nous allons utiliser sont en format FASTA"
      ],
      "metadata": {
        "id": "JuCCmZOG2s1r"
      }
    },
    {
      "cell_type": "markdown",
      "source": [
        "## Alignement de sequences\n",
        "On va écrire un programme pour aligner deux séquences, en utilisant l'algorithme Needleman-Wunch\n",
        "\n",
        "Une première étape : on va faire ca pour un cout fixe d'identité et de substitution"
      ],
      "metadata": {
        "id": "qkWD6j3jPTaa"
      }
    },
    {
      "cell_type": "code",
      "source": [
        "gapPenalty=-4\n",
        "identity=1\n",
        "substitution=-1"
      ],
      "metadata": {
        "id": "hjqWOlSDVmg8"
      },
      "execution_count": null,
      "outputs": []
    },
    {
      "cell_type": "code",
      "source": [
        "def cost_function_example(x,y):\n",
        "  \"\"\"\n",
        "  calcule le cout de l'alignement des car x et y\n",
        "  entrée : deux car x et y\n",
        "  sortie : un int représentant le cout de l'alignement de x et y\n",
        "  \"\"\"\n",
        "\n",
        "  if x==y:\n",
        "    return identity\n",
        "  elif x==\"-\" or y==\"-\":\n",
        "    return gapPenalty\n",
        "  else:\n",
        "    return substitution"
      ],
      "metadata": {
        "id": "um6GFpLnRL8q"
      },
      "execution_count": null,
      "outputs": []
    },
    {
      "cell_type": "markdown",
      "source": [
        "On va faire une fonction qui calcule la matrice des couts, et qui garde en mémoire au fur et à mesure le chemin pris et l'alignement construit"
      ],
      "metadata": {
        "id": "SYnnbDwgWMmb"
      }
    },
    {
      "cell_type": "code",
      "source": [
        "def costMatrix(str1, str2, cost_fun):\n",
        "\n",
        "  ''' Construction de la matrice de couts\n",
        "    et de la matrice des alignements construits petit à petit\n",
        "    et de la matrice des flèches\n",
        "\n",
        "  Entrée : les deux chaines de caractères correspondant aux séquences et la fonction de cout\n",
        "\n",
        "  Sortie : la matrice des couts scoreM et la matrice des sequences alignées seqM et la matrice des flèches arrowM\n",
        "      scoreM[i][j] = (cout : int) de taille (len(str2)+1) x (len(str1)+1)\n",
        "        avec scoreM[i][j]= max(scoreM[i-1][j-1]+(cout(str1[i], str2[j])), scoreM[i-1][j]+cout(str1[i],\"-\"), scoreM[i][j-1]+cout(\"-\", str2[j]))\n",
        "\n",
        "      seqM[i][j] = [(\"\",\"\")] liste de tuples de strings  de taille (len(str2)+1) x (len(str1)+1)\n",
        "      chaque tuple de string contient un alignement possible (et le moins couteux possible) des deux séquences.\n",
        "      Il peut y avoir plusieurs tuples s'il y a plusieurs chemins\n",
        "\n",
        "      arrowM[i][j] = [\"↖\"] liste de tous les chemins possible, sous symbole de flèche\n",
        "        de taille (len(str2)+1) x (len(str1)+1)\n",
        "\n",
        "  '''\n",
        "  scoreM = [[0 for i in range(len(str1)+1)] for j in range(len(str2)+1)]\n",
        "  seqM= [[[] for i in range(len(str1)+1)] for j in range(len(str2)+1)]\n",
        "  arrowM= [[[] for i in range(len(str1)+1)] for j in range(len(str2)+1)]\n",
        "  for i in range (len(str2)+1):\n",
        "    for j in range (len(str1)+1):\n",
        "      if i==0 and j==0: #cas de base\n",
        "        scoreM[i][j]=0\n",
        "        seqM[i][j].append((\"\",\"\"))\n",
        "        arrowM[i][j].append(\" \")\n",
        "      elif i==0:\n",
        "        scoreM[i][j] = scoreM[i][j-1]+cost_fun(\"-\", str1[j-1])\n",
        "        arrowM[i][j].append(\"←\")\n",
        "        for k in range (len(seqM[i][j-1])):\n",
        "          seqM[i][j].append((seqM[i][j-1][k][0]+str1[j-1], seqM[i][j-1][k][1]+\"_\"))\n",
        "      elif j==0:\n",
        "        scoreM[i][j] = scoreM[i-1][j]+cost_fun(str2[i-1], \"-\")\n",
        "        arrowM[i][j].append(\"↑\")\n",
        "        for k in range(len(seqM[i-1][j])):\n",
        "          seqM[i][j].append((seqM[i-1][j][k][0]+\"_\", seqM[i-1][j][k][1]+str2[i-1]))\n",
        "      else :\n",
        "        cout = max (scoreM[i-1][j-1]+(cost_fun(str2[i-1],str1[j-1])), scoreM[i-1][j]+cost_fun(str2[i-1],\"-\"), scoreM[i][j-1]+cost_fun(\"-\",str1[j-1]))\n",
        "        scoreM[i][j] = cout\n",
        "        if cout == scoreM[i-1][j-1]+cost_fun(str2[i-1],str1[j-1]):\n",
        "          arrowM[i][j].append(\"↖\")\n",
        "          for k in range(len(seqM[i-1][j-1])):\n",
        "            seqM[i][j].append((seqM[i-1][j-1][k][0]+str1[j-1], seqM[i-1][j-1][k][1]+str2[i-1]))\n",
        "        if cout == scoreM[i-1][j]+cost_fun(str2[i-1],\"-\"): #On met pas un elif car plusieurs cas sont possibles\n",
        "          arrowM[i][j].append(\"↑\")\n",
        "          for k in range(len(seqM[i-1][j])):\n",
        "            seqM[i][j].append((seqM[i-1][j][k][0]+\"_\", seqM[i-1][j][k][1]+str2[i-1]))\n",
        "        if cout == scoreM[i][j-1]+cost_fun(\"-\",str1[j-1]):\n",
        "          arrowM[i][j].append(\"←\")\n",
        "          for k in range(len(seqM[i][j-1])):\n",
        "            seqM[i][j].append((seqM[i][j-1][k][0]+str1[j-1], seqM[i][j-1][k][1]+\"_\"))\n",
        "\n",
        "  return scoreM, seqM, arrowM"
      ],
      "metadata": {
        "id": "ygcscrDdPyJJ"
      },
      "execution_count": null,
      "outputs": []
    },
    {
      "cell_type": "code",
      "source": [
        "##Test du code prédédent\n",
        "\n",
        "print(costMatrix(\"CHAT\",\"CAT\",cost_function_example))"
      ],
      "metadata": {
        "colab": {
          "base_uri": "https://localhost:8080/"
        },
        "id": "_Se582U0SdEz",
        "outputId": "07285418-39e4-4471-f2c9-2df17d8ac287"
      },
      "execution_count": null,
      "outputs": [
        {
          "output_type": "stream",
          "name": "stdout",
          "text": [
            "([[0, -4, -8, -12, -16], [-4, 1, -3, -7, -11], [-8, -3, 0, -2, -6], [-12, -7, -4, -1, -1]], [[[('', '')], [('C', '_')], [('CH', '__')], [('CHA', '___')], [('CHAT', '____')]], [[('_', 'C')], [('C', 'C')], [('CH', 'C_')], [('CHA', 'C__')], [('CHAT', 'C___')]], [[('__', 'CA')], [('C_', 'CA')], [('CH', 'CA')], [('CHA', 'C_A')], [('CHAT', 'C_A_')]], [[('___', 'CAT')], [('C__', 'CAT')], [('C_H', 'CAT'), ('CH_', 'CAT')], [('CHA', 'CAT')], [('CHAT', 'C_AT')]]], [[[' '], ['←'], ['←'], ['←'], ['←']], [['↑'], ['↖'], ['←'], ['←'], ['←']], [['↑'], ['↑'], ['↖'], ['↖'], ['←']], [['↑'], ['↑'], ['↖', '↑'], ['↖'], ['↖']]])\n"
          ]
        }
      ]
    },
    {
      "cell_type": "code",
      "source": [
        "def seq_align(str1, str2, cost_fun):\n",
        "  '''\n",
        "  Renvoie les différents alignements possibles ainsi que le cout\n",
        "  Entrée : les deux séquences à comparer (strings)\n",
        "  Sortie : le cout du meilleur alignement (int)\n",
        "        et les différents alignements possibles (liste de stuple de strings) où un tuple est un alignement des deux strings\n",
        "  '''\n",
        "  scoreM,seqM,arrowM=costMatrix(str1,str2,cost_fun)\n",
        "  #print(scoreM,seqM)\n",
        "  return scoreM[len(str2)][len(str1)], (seqM[len(str2)][len(str1)])\n"
      ],
      "metadata": {
        "id": "lkQP4I5ZYlRF"
      },
      "execution_count": null,
      "outputs": []
    },
    {
      "cell_type": "code",
      "source": [
        "#seq_align(\"CHAT\",\"CAT\")\n",
        "seq_align(\"AAAG\",\"ACG\", cost_function_example)"
      ],
      "metadata": {
        "colab": {
          "base_uri": "https://localhost:8080/"
        },
        "id": "b_CCBJANbXF5",
        "outputId": "2f1f988c-e35d-454e-ac3f-5b17f35fd8ec"
      },
      "execution_count": null,
      "outputs": [
        {
          "output_type": "execute_result",
          "data": {
            "text/plain": [
              "(-3, [('AAAG', '_ACG'), ('AAAG', 'A_CG'), ('AAAG', 'AC_G')])"
            ]
          },
          "metadata": {},
          "execution_count": 7
        }
      ]
    },
    {
      "cell_type": "code",
      "source": [
        "def representation(str1, str2, costM,arrowM):\n",
        "  repr = \"\"\n",
        "\n",
        "  header = \" \" + \"      \".join(f\"{c}  \" for c in \" -\" + str1) + \"\\n\"\n",
        "\n",
        "  repr += header\n",
        "\n",
        "  for i, line in enumerate(costM):\n",
        "\n",
        "    row = f\"{'-' if i == 0 else str2[i-1] if i > 0 else ''}    \"\n",
        "\n",
        "    for j, cell in enumerate(line):\n",
        "      row+=\"  \"\n",
        "      row += \"\".join(\n",
        "        arrowM[i][j][k]\n",
        "        for k in range(len(arrowM[i][j]))\n",
        "      )\n",
        "      row+=f\"  {cell or costM[i][j]}  \"\n",
        "    row += \"\\n\"\n",
        "\n",
        "    repr += row\n",
        "\n",
        "  print(repr)"
      ],
      "metadata": {
        "id": "UWeTNeOvrBgC"
      },
      "execution_count": null,
      "outputs": []
    },
    {
      "cell_type": "code",
      "source": [
        "costM, seqqM, arrowM=costMatrix(\"AAAG\",\"ACG\",cost_function_example)\n",
        "representation(\"AAAG\",\"ACG\",costM,arrowM)"
      ],
      "metadata": {
        "colab": {
          "base_uri": "https://localhost:8080/"
        },
        "id": "RuVN07dprqfL",
        "outputId": "eda56548-ffe7-4aad-a5df-63226bbd4cac"
      },
      "execution_count": null,
      "outputs": [
        {
          "output_type": "stream",
          "name": "stdout",
          "text": [
            "          -        A        A        A        G  \n",
            "-         0    ←  -4    ←  -8    ←  -12    ←  -16  \n",
            "A      ↑  -4    ↖  1    ↖←  -3    ↖←  -7    ←  -11  \n",
            "C      ↑  -8    ↑  -3    ↖  0    ↖←  -4    ↖←  -8  \n",
            "G      ↑  -12    ↑  -7    ↖↑  -4    ↖  -1    ↖  -3  \n",
            "\n"
          ]
        }
      ]
    },
    {
      "cell_type": "markdown",
      "source": [
        "#Scéance 2 : Alignement de plusieurs séquences\n",
        "\n",
        "On va adapter notre programme afin de permettre d'aligner un nombre arbritraire de séquences. Cela se produit en plusieurs étapes:\n",
        "\n",
        "\n",
        "\n",
        "*   *Etape 1* : Calcul de distances entre les séquences deux à deux\n",
        "*   *Etape 2* : Construction d'un arbre hierarchique, à partir de ces distances\n",
        "*   *Etape 3* : Alignements entre blocs déjà alignés\n",
        "\n",
        "\n"
      ],
      "metadata": {
        "id": "vEij2-ivXFXg"
      }
    },
    {
      "cell_type": "markdown",
      "source": [
        "*Etape 1*"
      ],
      "metadata": {
        "id": "nS8CxN4xk12T"
      }
    },
    {
      "cell_type": "code",
      "source": [
        "def mat_distances(liste_de_sequences, cost_fun):\n",
        "  \"\"\"renvoie une matrice de distances deux à deux des séquences de la liste\n",
        "  Entrée : une liste de string qui sont les séquences à comparer\n",
        "  Sortie : une matrice de distances deux à deux des séquences de la liste\"\"\"\n",
        "  matD=[[0 for j in range(len(liste_de_sequences))] for i in range(len(liste_de_sequences))]\n",
        "  for i in range(len(liste_de_sequences)):\n",
        "    for j in range(len(liste_de_sequences)):\n",
        "      if j>=i:\n",
        "        matD[i][j]=seq_align(liste_de_sequences[i], liste_de_sequences[j], cost_fun)[0]\n",
        "        matD[j][i]=matD[i][j]\n",
        "  return matD"
      ],
      "metadata": {
        "id": "VhSeM_zKXfiZ"
      },
      "execution_count": null,
      "outputs": []
    },
    {
      "cell_type": "code",
      "source": [
        "#test\n",
        "\n",
        "print(mat_distances([\"CHAT\",\"CAT\",\"HER\"],cost_function_example))"
      ],
      "metadata": {
        "colab": {
          "base_uri": "https://localhost:8080/"
        },
        "id": "_I_CLYUujPRE",
        "outputId": "6e47a405-e0ca-4d1a-b35e-0d8b6f1eedae"
      },
      "execution_count": null,
      "outputs": [
        {
          "output_type": "stream",
          "name": "stdout",
          "text": [
            "[[4, -1, -5], [-1, 3, -3], [-5, -3, 3]]\n"
          ]
        }
      ]
    },
    {
      "cell_type": "markdown",
      "source": [
        "*Etape 2 : construction de l'arbre de clusters*\n",
        "\n",
        "On aura besoin de définir les structures d'arbres"
      ],
      "metadata": {
        "id": "alrYD2DKfgQP"
      }
    },
    {
      "cell_type": "code",
      "source": [
        "class Tree:\n",
        "  def __init__(self, val = None, left=None, right=None):\n",
        "    if val != None:\n",
        "        self.val = val\n",
        "    else:\n",
        "        self.val = None\n",
        "\n",
        "    if left != None:\n",
        "        self.left = left\n",
        "    else:\n",
        "        self.left = None\n",
        "\n",
        "    if right != None:\n",
        "        self.right = right\n",
        "    else:\n",
        "        self.right = None"
      ],
      "metadata": {
        "id": "QVwX9A9hgoK1"
      },
      "execution_count": null,
      "outputs": []
    },
    {
      "cell_type": "markdown",
      "source": [
        "Avec une fonction de représentation"
      ],
      "metadata": {
        "id": "Yn-WeDRwkfys"
      }
    },
    {
      "cell_type": "code",
      "source": [
        "def print_tree(node, level=0, prefix=\"Root: \"):\n",
        "    \"\"\"\n",
        "    Représente un arbre binaire de manière hiérarchique.\n",
        "    :param node: Le nœud actuel (de type Tree)\n",
        "    :param level: Niveau d'indentation actuel\n",
        "    :param prefix: Préfixe à afficher avant chaque nœud\n",
        "    \"\"\"\n",
        "    if node is not None:\n",
        "        print(\" \" * (level * 4) + prefix + str(node.val))\n",
        "        print_tree(node.left, level + 1, \"Left: \")\n",
        "        print_tree(node.right, level + 1, \"Right: \")\n",
        "    else:\n",
        "        print(\" \" * (level * 4) + prefix + \"None\")"
      ],
      "metadata": {
        "id": "72uRJ2WekdKj"
      },
      "execution_count": null,
      "outputs": []
    },
    {
      "cell_type": "code",
      "source": [
        "def inter_cluster_dist(list_indices1,list_indices2,distanceMatrix):\n",
        "  \"\"\"renvoie la distance entre le cluster 1 et 2\n",
        "  Entrée : deux clusters, étant des arbres, chaque noeud étant un tuple (indice, séquence associée)\n",
        "          une matrice de distance qui associe aux indices concernées la distance entre les séquences correspondantes\n",
        "  Sortie : float, la distance entre les deux clusters\"\"\"\n",
        "  dist=0\n",
        "  for i in list_indices1:\n",
        "    for j in list_indices2:\n",
        "      dist+=distanceMatrix[i][j]\n",
        "  return dist/(len(list_indices1)*len(list_indices2))"
      ],
      "metadata": {
        "id": "0BIK-O15Z6-H"
      },
      "execution_count": null,
      "outputs": []
    },
    {
      "cell_type": "code",
      "source": [
        "def UPGMA(liste_de_sequences, cost_fun):\n",
        "  \"\"\"renvoie l'arbre de clusters associé à la liste de séquence\n",
        "  entrée : une liste de séquence et la fonction de cout de l'alignement\n",
        "  sortie : un arbre de clusters\"\"\"\n",
        "\n",
        "  matD=mat_distances(liste_de_sequences, cost_fun) #matrice de distance entre chaque paire de séquence\n",
        "  clusters=[Tree(val=[i]) for i in range(len(liste_de_sequences))] #liste de cluster, chaque cluster étant un arbre\n",
        "  mind = float('inf')\n",
        "  while len(clusters)>1:\n",
        "    min=matD[0][1]\n",
        "    min_i=0\n",
        "    min_j=1\n",
        "    for i in range(len(clusters)):\n",
        "      for j in range(i+1,len(clusters)):\n",
        "        dij=inter_cluster_dist(clusters[i].val,clusters[j].val,matD)\n",
        "        if dij<mind :\n",
        "          mind=dij\n",
        "          min_i=i\n",
        "          min_j=j\n",
        "    indices_new_cluster=clusters[min_i].val+clusters[min_j].val\n",
        "    new_cluster=Tree(indices_new_cluster, left=clusters[min_i], right=clusters[min_j])\n",
        "    clusters.pop(min_j)\n",
        "    clusters.pop(min_i)\n",
        "    clusters.append(new_cluster)\n",
        "  return clusters"
      ],
      "metadata": {
        "id": "oPNaZPJ1ati5"
      },
      "execution_count": null,
      "outputs": []
    },
    {
      "cell_type": "code",
      "source": [
        "tree_example =UPGMA([\"CHAT\",\"CAT\",\"HER\"],cost_function_example)[0]\n",
        "print_tree(tree_example)"
      ],
      "metadata": {
        "colab": {
          "base_uri": "https://localhost:8080/"
        },
        "id": "PQwqAgVLj3uf",
        "outputId": "46eaf4bc-2990-4390-8fd0-0f44aabfb0ef"
      },
      "execution_count": null,
      "outputs": [
        {
          "output_type": "stream",
          "name": "stdout",
          "text": [
            "Root: [1, 0, 2]\n",
            "    Left: [1]\n",
            "        Left: None\n",
            "        Right: None\n",
            "    Right: [0, 2]\n",
            "        Left: [0]\n",
            "            Left: None\n",
            "            Right: None\n",
            "        Right: [2]\n",
            "            Left: None\n",
            "            Right: None\n"
          ]
        }
      ]
    },
    {
      "cell_type": "markdown",
      "source": [
        "*Etape 3 : alignement*"
      ],
      "metadata": {
        "id": "gtP2YLpFlHAg"
      }
    },
    {
      "cell_type": "code",
      "source": [
        "def cost_function_block(list1, list2, cost_fun):\n",
        "  \"\"\" renvoie le cout de l'alignement entre deux listes de caractères\n",
        "  Entrée : deux listes de caractères et la fonction de cout par base\n",
        "  Sortie : le cout associé\"\"\"\n",
        "  cost=0\n",
        "  n=len(list1)\n",
        "  m=len(list2)\n",
        "  for i in range(n):\n",
        "    for j in range(m):\n",
        "      cost+=cost_fun(list1[i],list2[j])\n",
        "  return cost/(n*m)"
      ],
      "metadata": {
        "id": "jDQtz3OylK28"
      },
      "execution_count": null,
      "outputs": []
    },
    {
      "cell_type": "code",
      "source": [
        "#test\n",
        "cost_function_block([\"T\",\"T\",\"T\"],[\"-\",\"-\"],cost_function_example)"
      ],
      "metadata": {
        "colab": {
          "base_uri": "https://localhost:8080/"
        },
        "id": "ilDfqWXZp_4T",
        "outputId": "a97093cc-8ebb-4a2f-c71d-8f2e66549763"
      },
      "execution_count": null,
      "outputs": [
        {
          "output_type": "execute_result",
          "data": {
            "text/plain": [
              "-4.0"
            ]
          },
          "metadata": {},
          "execution_count": 39
        }
      ]
    },
    {
      "cell_type": "markdown",
      "source": [
        "On adapte notre fonction needleman wunch"
      ],
      "metadata": {
        "id": "Yaw0Fk1Tm51E"
      }
    },
    {
      "cell_type": "code",
      "source": [
        "import numpy"
      ],
      "metadata": {
        "id": "fCflAgTbpagc"
      },
      "execution_count": null,
      "outputs": []
    },
    {
      "cell_type": "code",
      "source": [
        "def costMatrixMultiple(block1, block2, cost_fun):\n",
        "    \"\"\"\n",
        "    Compute the Needleman-Wunsch dynamic programming matrix concerning blocks of strings already aligned\n",
        "\n",
        "    Entrée : les deux chaines de caractères correspondant aux séquences et la fonction de cout\n",
        "\n",
        "    Returns:\n",
        "      The dynamic programming matrix\n",
        "    \"\"\"\n",
        "\n",
        "    n=len(block1[0])\n",
        "    m=len(block2[0])\n",
        "\n",
        "    # construct DP matrix (use a numpy matrix!)\n",
        "    D = numpy.zeros((m+1,n+1), dtype='int')\n",
        "\n",
        "    # fill matrix\n",
        "    for i in range(0,m+1):\n",
        "      for j in range(0,n+1):\n",
        "        if i==0 and j==0:\n",
        "          D[i,j]=0\n",
        "        elif i==0:\n",
        "          D[i,j]=D[i,j-1]+cost_function_block([('-') for k in range(len(block1))],[(block2[k][j-1]) for k in range (len(block2))], cost_fun)\n",
        "        elif j==0:\n",
        "          D[i,j]=D[i-1,j]+cost_function_block([(block1[k][j-1])for k in range(len(block1))],[('-') for k in range (len(block2))], cost_fun)\n",
        "        else :\n",
        "          D[i,j]=max(D[i-1,j]+cost_function_block([(block1[k][j-1])for k in range(len(block1))],[('-') for k in range (len(block2))], cost_fun),\n",
        "                     D[i,j-1]+cost_function_block([('-') for k in range(len(block1))],[(block2[k][j-1]) for k in range (len(block2))], cost_fun),\n",
        "                     D[i-1,j-1]+cost_function_block([(block1[k][j-1]) for k in range(len(block1))],[(block2[k][j-1]) for k in range (len(block2))], cost_fun))\n",
        "    return(D)\n"
      ],
      "metadata": {
        "id": "h1ZjXU4Pm8xN"
      },
      "execution_count": null,
      "outputs": []
    },
    {
      "cell_type": "code",
      "source": [
        "Mat= (costMatrixMultiple([\"CHAT\",\"C-AT\",\"CH-T\"], [\"-HAT\"], cost_function_example))\n",
        "print(Mat)"
      ],
      "metadata": {
        "colab": {
          "base_uri": "https://localhost:8080/"
        },
        "id": "kerjQ2Nwm41o",
        "outputId": "e2dc29d4-c88c-4917-be64-1340ee6f341c"
      },
      "execution_count": null,
      "outputs": [
        {
          "output_type": "stream",
          "name": "stdout",
          "text": [
            "[[  0   1  -3  -7 -11]\n",
            " [ -4  -3   0  -3  -6]\n",
            " [ -8  -7  -2   0  -2]\n",
            " [-12 -11  -4  -2   1]\n",
            " [-16 -15  -6  -4  -1]]\n"
          ]
        }
      ]
    },
    {
      "cell_type": "code",
      "source": [
        "def trace_back_needleman_wunsch_multiple(block1, block2, cost_fun, D):\n",
        "    \"\"\"\n",
        "    Determine the alignment of two already aligned blocks given a dynamic programming matrix mat\n",
        "    Args:\n",
        "      block1: list of str, first list of aligned sequences\n",
        "      block2: list of str, second list of aligned sequences\n",
        "      cost_fun: cost function\n",
        "      mat: The dynamic programming table\n",
        "    Returns:\n",
        "      Two block of strings with \"-\" symbols: The alignment between block1 and block2\n",
        "    \"\"\"\n",
        "    # perform trace back, construct alignment blocks of string aa and ab\n",
        "    aa = [(\"\") for i in range (len(block1))]\n",
        "    bb = [(\"\") for i in range (len(block2))]\n",
        "    i=len(block1[0])\n",
        "    j=len(block2[0])\n",
        "\n",
        "    while i>0 or j>0:\n",
        "\n",
        "      if i==0:\n",
        "        for k in range (len(block1)):\n",
        "          aa[k]+='-'\n",
        "        for k in range(len(block2)):\n",
        "          bb[k]+=(block2[k][j-1])\n",
        "        j-=1\n",
        "\n",
        "      elif j==0:\n",
        "        for k in range (len(block1)):\n",
        "          aa[k]+=(block1[k][i-1])\n",
        "        for k in range(len(block2)):\n",
        "          bb[k]+='-'\n",
        "        i-=1\n",
        "\n",
        "\n",
        "      else :\n",
        "        if D[i,j]==D[i-1,j-1]+cost_function_block([(block1[k][i-1]) for k in range(len(block1))],[(block2[k][j-1]) for k in range (len(block2))], cost_fun):\n",
        "          for k in range (len(block1)):\n",
        "            aa[k]+=(block1[k][i-1])\n",
        "          for k in range(len(block2)):\n",
        "            bb[k]+=(block2[k][j-1])\n",
        "          i-=1\n",
        "          j-=1\n",
        "\n",
        "        elif D[i,j]==D[i-1,j]+cost_function_block([(block1[k][i-1])for k in range(len(block1))],[('-') for k in range (len(block2))], cost_fun):\n",
        "          print(\"cas2\")\n",
        "          print([(block1[k][j-1])for k in range(len(block1))],[('-') for k in range (len(block2))])\n",
        "          for k in range (len(block1)):\n",
        "            aa[k]+=(block1[k][i-1])\n",
        "          for k in range(len(block2)):\n",
        "            bb[k]+='-'\n",
        "          i-=1\n",
        "\n",
        "        else :\n",
        "          for k in range (len(block1)):\n",
        "            aa[k]+='-'\n",
        "          for k in range(len(block2)):\n",
        "            bb[k]+=(block2[k][j-1])\n",
        "          j-=1\n",
        "\n",
        "    for k in range (len(block1)):\n",
        "      aa[k]=aa[k][::-1]\n",
        "    for k in range(len(block2)):\n",
        "      bb[k]=bb[k][::-1]\n",
        "    print(aa, bb)\n",
        "\n",
        "    return D[len(block1[0]), len(block2[0])]"
      ],
      "metadata": {
        "id": "v-sFkNrVrvR3"
      },
      "execution_count": null,
      "outputs": []
    },
    {
      "cell_type": "code",
      "source": [
        "trace_back_needleman_wunsch_multiple([\"CHAT\",\"C-AT\",\"CH-T\"], [\"-HAT\"], cost_function_example, Mat)"
      ],
      "metadata": {
        "colab": {
          "base_uri": "https://localhost:8080/"
        },
        "id": "mSiJPxfQusBf",
        "outputId": "5f911b9f-975f-40c6-e59b-ce925bd603f1"
      },
      "execution_count": null,
      "outputs": [
        {
          "output_type": "stream",
          "name": "stdout",
          "text": [
            "['CHA---T', 'C-A---T', 'CH----T'] ['----HAT']\n"
          ]
        },
        {
          "output_type": "execute_result",
          "data": {
            "text/plain": [
              "-1"
            ]
          },
          "metadata": {},
          "execution_count": 44
        }
      ]
    }
  ]
}