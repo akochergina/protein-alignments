{
 "cells": [
  {
   "cell_type": "code",
   "execution_count": null,
   "metadata": {},
   "outputs": [],
   "source": [
    "from Bio.PDB import *\n",
    "from Bio.Seq import Seq"
   ]
  },
  {
   "cell_type": "code",
   "execution_count": null,
   "metadata": {},
   "outputs": [],
   "source": [
    "pdbl = PDBList()\n",
    "pdbl.retrieve_pdb_file('1FAT', file_format='pdb')"
   ]
  },
  {
   "cell_type": "code",
   "execution_count": null,
   "metadata": {},
   "outputs": [],
   "source": [
    "parser = PDBParser()\n",
    "structure = parser.get_structure('PHA-L', 'fa/pdb1fat.ent')"
   ]
  },
  {
   "cell_type": "code",
   "execution_count": null,
   "metadata": {},
   "outputs": [],
   "source": [
    "for model in structure:\n",
    "    for chain in model:\n",
    "        for residue in chain:\n",
    "            print(residue)\n",
    "            for atom in residue:\n",
    "                print(atom)"
   ]
  },
  {
   "cell_type": "code",
   "execution_count": null,
   "metadata": {},
   "outputs": [],
   "source": [
    "for atom in structure.get_atoms():\n",
    "    print(atom)"
   ]
  },
  {
   "cell_type": "code",
   "execution_count": null,
   "metadata": {},
   "outputs": [],
   "source": [
    "atom = structure[0]['A'][13]['CB'] # 0 - numero de model, A - id de chain, 13 - numero de residuo, CB - nom de l'atom  \n",
    "print(atom.get_vector())\n",
    "print(atom.coord)"
   ]
  },
  {
   "cell_type": "code",
   "execution_count": null,
   "metadata": {},
   "outputs": [],
   "source": [
    "ca1 = structure[0]['A'][1]['CA']\n",
    "ca2 = structure[0]['A'][2]['CA']\n",
    "dist = ca1 - ca2\n",
    "dist"
   ]
  },
  {
   "cell_type": "code",
   "execution_count": null,
   "metadata": {},
   "outputs": [],
   "source": [
    "ca3 = structure[0]['B'][3]['CA']\n",
    "dist = ca1 - ca3\n",
    "dist"
   ]
  },
  {
   "cell_type": "code",
   "execution_count": null,
   "metadata": {},
   "outputs": [],
   "source": [
    "res = structure[0]['A'][13]\n",
    "vn = res['N'].get_vector()\n",
    "vca = res['CA'].get_vector()\n",
    "vcb = res['CB'].get_vector()\n",
    "angle = calc_angle(vn, vca, vcb)\n",
    "angle"
   ]
  },
  {
   "cell_type": "code",
   "execution_count": null,
   "metadata": {},
   "outputs": [],
   "source": [
    "vcg = res['CG'].get_vector()\n",
    "dihe = calc_dihedral(vn, vca, vcb, vcg)\n",
    "dihe"
   ]
  },
  {
   "cell_type": "code",
   "execution_count": null,
   "metadata": {},
   "outputs": [],
   "source": [
    "from Bio.PDB.Polypeptide import protein_letters_3to1"
   ]
  },
  {
   "cell_type": "code",
   "execution_count": null,
   "metadata": {},
   "outputs": [],
   "source": [
    "s = '' \n",
    "reslist = structure[0]['A'].get_residues()\n",
    "for res in reslist:\n",
    "    if is_aa(res):\n",
    "        aa3 = res.get_resname()\n",
    "        aa1 = protein_letters_3to1[aa3]\n",
    "        s = s + aa1\n",
    "\n",
    "seq = Seq(s)\n",
    "print(seq)"
   ]
  },
  {
   "cell_type": "code",
   "execution_count": null,
   "metadata": {},
   "outputs": [],
   "source": [
    "seq = Seq('', ProteinAlphabet())\n",
    "ppb = PPBuilder()\n",
    "# not finished"
   ]
  },
  {
   "cell_type": "code",
   "execution_count": null,
   "metadata": {},
   "outputs": [],
   "source": [
    "dssp = DSSP(model, '1FAT.dssp', file_type='DSSP')\n"
   ]
  }
 ],
 "metadata": {
  "kernelspec": {
   "display_name": "vienna",
   "language": "python",
   "name": "python3"
  },
  "language_info": {
   "codemirror_mode": {
    "name": "ipython",
    "version": 3
   },
   "file_extension": ".py",
   "mimetype": "text/x-python",
   "name": "python",
   "nbconvert_exporter": "python",
   "pygments_lexer": "ipython3",
   "version": "3.9.19"
  }
 },
 "nbformat": 4,
 "nbformat_minor": 2
}
