{
 "cells": [
  {
   "cell_type": "code",
   "execution_count": null,
   "metadata": {},
   "outputs": [],
   "source": [
    "%load_ext autoreload\n",
    "%autoreload 2\n",
    "\n",
    "import sys\n",
    "import os\n",
    "\n",
    "# Add the parent directory to the path so we can import the module\n",
    "sys.path.append(os.path.abspath(os.path.join('..')))"
   ]
  },
  {
   "cell_type": "code",
   "execution_count": null,
   "metadata": {},
   "outputs": [],
   "source": [
    "from modules.multiple_align import align_multiple_sequences\n",
    "from modules.needleman_wunsch import needleman_wunsch, print_alignments\n",
    "from modules.UPGMA import UPGMA, mat_distances\n",
    "from modules.nw_multiple import needleman_wunsch_multiple"
   ]
  },
  {
   "cell_type": "markdown",
   "metadata": {},
   "source": [
    "## Needleman-Wunsch algorithm\n",
    "\n",
    "\n",
    "First and foremost, we implemented the Needleman-Wunsch algorithm for aligning N sequences. Simple test for 2 and 5 sequences are presented below. \n",
    "\n",
    "\n",
    "It is possible to use BLOSSUM matrix and to use your own parametres for costs. It is possible to use different gap opening cost and gap extension cost also."
   ]
  },
  {
   "cell_type": "code",
   "execution_count": null,
   "metadata": {},
   "outputs": [],
   "source": [
    "sequences = [\"CHAT\", \"CAT\"]\n",
    "\n",
    "score, alignment = needleman_wunsch(sequences, True, print_result=True)"
   ]
  },
  {
   "cell_type": "code",
   "execution_count": null,
   "metadata": {},
   "outputs": [],
   "source": [
    "blossum = True\n",
    "sequences = [\"CHAT\", \"CAT\", \"HER\", \"HAT\", \"HARAT\"]\n",
    "\n",
    "score, alignment = needleman_wunsch(sequences, blossum, print_result=True)"
   ]
  },
  {
   "cell_type": "code",
   "execution_count": null,
   "metadata": {},
   "outputs": [],
   "source": [
    "blossum = True\n",
    "sequences1 = [\"CHAT\", \"C-AT\"]\n",
    "sequences2 = [\"HER--\", \"HA--T\", \"HARAT\"]\n",
    "\n",
    "score, alignment = needleman_wunsch_multiple(sequences1, sequences2, blossum, print_result=True)"
   ]
  },
  {
   "cell_type": "markdown",
   "metadata": {},
   "source": [
    "#### Needleman-Wunsch Evaluation"
   ]
  },
  {
   "cell_type": "code",
   "execution_count": null,
   "metadata": {},
   "outputs": [],
   "source": [
    "from Bio import pairwise2\n",
    "from Bio.Align import substitution_matrices\n"
   ]
  },
  {
   "cell_type": "code",
   "execution_count": null,
   "metadata": {},
   "outputs": [],
   "source": [
    "import Levenshtein\n",
    "\n",
    "def string_similarity_Levenshtein(str1, str2):\n",
    "    \"\"\"\n",
    "    Computes the normalized Levenshtein similarity between two strings.\n",
    "    \n",
    "    Parameters:\n",
    "    ----------\n",
    "    str1 : str\n",
    "        First string.\n",
    "    str2 : str\n",
    "        Second string.\n",
    "\n",
    "    Returns:\n",
    "    -------\n",
    "    float\n",
    "        Similarity score between 0 and 1 (1 = identical, 0 = completely different).\n",
    "    \"\"\"\n",
    "    max_length = max(len(str1), len(str2))\n",
    "    if max_length == 0:\n",
    "        return 1.0  # Both strings are empty\n",
    "    return 1 - Levenshtein.distance(str1, str2) / max_length"
   ]
  },
  {
   "cell_type": "code",
   "execution_count": null,
   "metadata": {},
   "outputs": [],
   "source": [
    "def alignment_result_comparison(result1, result2):\n",
    "    \"\"\" \n",
    "    Compare two alignment results\n",
    "\n",
    "    Parameters:\n",
    "    result1 (score, alignment1, alignment2): Custom Needleman-Wunsch alignment result\n",
    "    result2 (score, alignment1, alignment2): Biopython Needleman-Wunsch alignment result\n",
    "    \"\"\"\n",
    "    flag = True\n",
    "    score1, score2 = result1[0], result2[0]\n",
    "    if score1 != score2: \n",
    "        print(f\"Scores are different: {score1} != {score2}\")\n",
    "        flag = False\n",
    "\n",
    "    alignment1, alignment2 = result1[1], result2[1]\n",
    "    if (len(alignment1) != len(alignment2)): \n",
    "        print(f\"Lengths of alignments are different: {len(alignment1)} != {len(alignment2)}\")\n",
    "        flag = False\n",
    "    alignment_diff = string_similarity_Levenshtein(alignment1, alignment2)\n",
    "    if alignment_diff != 1: \n",
    "        print(f\"Alignments are different, Levenshtein distance: {alignment_diff}\")\n",
    "        flag = False\n",
    "\n",
    "    alignment1, alignment2 = result1[2], result2[2]\n",
    "    if (len(alignment1) != len(alignment2)): \n",
    "        print(f\"Lengths of alignments are different: {len(alignment1)} != {len(alignment2)}\")\n",
    "        flag = False\n",
    "    alignment_diff = string_similarity_Levenshtein(alignment1, alignment2)\n",
    "    if alignment_diff != 1: \n",
    "        print(f\"Alignments are different, Levenshtein distance: {alignment_diff}\")\n",
    "        flag = False\n",
    "\n",
    "    if flag: print(\"Comparison of custom and Biopython Needleman-Wunsch results passed: alignments are the same and score is the same\")"
   ]
  },
  {
   "cell_type": "code",
   "execution_count": null,
   "metadata": {},
   "outputs": [],
   "source": [
    "substitution_matrix = substitution_matrices.load(\"BLOSUM62\")\n",
    "gap_open_penalty = -10\n",
    "gap_extension_penalty = -2\n",
    "seq1 = \"CHAT\"\n",
    "seq2 = \"CAT\"\n",
    "\n",
    "alignments_biopython = pairwise2.align.globalds(seq1, seq2, substitution_matrix, gap_open_penalty, gap_extension_penalty)\n",
    "print(\"Biopython results: \\n\",alignments_biopython)\n",
    "print(\" \\nCustom results:\")\n",
    "score, alignment = needleman_wunsch([seq1, seq2], True, print_result=True)\n",
    "\n",
    "custom_result = (score, alignment[0], alignment[1])\n",
    "result_biopython = (alignments_biopython[0][2], alignments_biopython[0][0], alignments_biopython[0][1])\n",
    "alignment_result_comparison(custom_result, result_biopython)"
   ]
  },
  {
   "cell_type": "code",
   "execution_count": null,
   "metadata": {},
   "outputs": [],
   "source": [
    "substitution_matrix = substitution_matrices.load(\"BLOSUM62\")\n",
    "gap_open_penalty = -10\n",
    "gap_extension_penalty = -2\n",
    "seq2 = \"MCGNIQLEYAHHGPATQFLWTYIMIGCLKFKGFREQHFYIPGICKDWHFKFLCFYRMIHIPIGPGYITQNTSPAGHYRHSEKAICVMQMFKYICRFRA\"\n",
    "seq1 = \"MHGQLEYIAHSPATRFLYTIGCLKFKWFREHHFNIPGECKDWHFKFDCFYRMIHIPIGPAIMYITSPAGHYRHSEMAITVMQMNKVGCRFRDICLYFVES\"\n",
    "\n",
    "alignments_biopython = pairwise2.align.globalds(seq1, seq2, substitution_matrix, gap_open_penalty, gap_extension_penalty)\n",
    "print(\"Biopython results:\")\n",
    "print_alignments([alignments_biopython[0][0], alignments_biopython[0][1]])\n",
    "print(\"Score:\", alignments_biopython[0][2])\n",
    "\n",
    "\n",
    "result_biopython = (alignments_biopython[0][2], alignments_biopython[0][0], alignments_biopython[0][1])"
   ]
  },
  {
   "cell_type": "code",
   "execution_count": null,
   "metadata": {},
   "outputs": [],
   "source": [
    "substitution_matrix = substitution_matrices.load(\"BLOSUM62\")\n",
    "gap_open_penalty = -10\n",
    "gap_extension_penalty = -2\n",
    "seq1 = \"MCGNIQLEYAHHGPATQFLWTYIMIGCLKFKGFREQHFYIPGICKDWHFKFLCFYRMIHIPIGPGYITQNTSPAGHYRHSEKAICVMQMFKYICRFRA\"\n",
    "seq2 = \"MHGQLEYIAHSPATRFLYTIGCLKFKWFREHHFNIPGECKDWHFKFDCFYRMIHIPIGPAIMYITSPAGHYRHSEMAITVMQMNKVGCRFRDICLYFVES\"\n",
    "\n",
    "print(\" \\nCustom results:\")\n",
    "score, alignment = needleman_wunsch([seq1, seq2], True, print_result=False)\n",
    "print_alignments(alignment)\n",
    "print(\"Score: \", score)\n",
    "\n",
    "custom_result = (score, alignment[0], alignment[1])"
   ]
  },
  {
   "cell_type": "code",
   "execution_count": null,
   "metadata": {},
   "outputs": [],
   "source": [
    "alignment_result_comparison(custom_result, result_biopython)"
   ]
  },
  {
   "cell_type": "markdown",
   "metadata": {},
   "source": [
    "## UPGMA Algorithm\n",
    "\n",
    "We used the UPGMA (Unweighted Pair Group Method with Arithmetic Mean) algorithm for clustering. Below are some simple examples demonstrating the functionality of the algorithm.\n"
   ]
  },
  {
   "cell_type": "code",
   "execution_count": null,
   "metadata": {},
   "outputs": [],
   "source": [
    "from graphviz import Digraph\n",
    "from IPython.display import display\n",
    "\n",
    "def visualize_tree(tree, sequences):\n",
    "        \"\"\"\n",
    "        Displays a graphical representation of the tree using Graphviz in Jupyter Notebook.\n",
    "\n",
    "        Returns:\n",
    "        -------\n",
    "        None (renders the graph inline in Jupyter Notebook)\n",
    "        \"\"\"\n",
    "        def add_nodes_edges(tree, graph, node_id=0):\n",
    "            \"\"\" Recursively adds nodes and edges to the Graphviz graph. \"\"\"\n",
    "            if tree is not None:\n",
    "                if len(tree.val) > 1:\n",
    "                    node_label = \", \".join([sequences[i] for i in tree.val])\n",
    "                else:\n",
    "                    node_label = str(sequences[tree.val[0]])\n",
    "                graph.node(str(node_id), node_label)\n",
    "\n",
    "                left_id, right_id = node_id * 2 + 1, node_id * 2 + 2\n",
    "                if tree.left:\n",
    "                    graph.edge(str(node_id), str(left_id), label=\"L\")\n",
    "                    add_nodes_edges(tree.left, graph, left_id)\n",
    "                if tree.right:\n",
    "                    graph.edge(str(node_id), str(right_id), label=\"R\")\n",
    "                    add_nodes_edges(tree.right, graph, right_id)\n",
    "\n",
    "        dot = Digraph(format=\"png\") \n",
    "        add_nodes_edges(tree, dot)\n",
    "        display(dot)"
   ]
  },
  {
   "cell_type": "code",
   "execution_count": null,
   "metadata": {},
   "outputs": [],
   "source": [
    "sequences = [\"CHAT\", \"CAT\"]\n",
    "\n",
    "tree = UPGMA(sequences, True)\n",
    "visualize_tree(tree, sequences)\n"
   ]
  },
  {
   "cell_type": "code",
   "execution_count": null,
   "metadata": {},
   "outputs": [],
   "source": [
    "sequences = [\"CHAT\", \"CAT\", \"HER\", \"HAT\", \"HARAT\"]\n",
    "\n",
    "tree = UPGMA(sequences, True)\n",
    "visualize_tree(tree, sequences)"
   ]
  },
  {
   "cell_type": "markdown",
   "metadata": {},
   "source": [
    "### UPGMA Evaluation"
   ]
  },
  {
   "cell_type": "code",
   "execution_count": null,
   "metadata": {},
   "outputs": [],
   "source": [
    "from Bio.Phylo.TreeConstruction import DistanceTreeConstructor, DistanceMatrix\n",
    "from Bio.Phylo import draw_ascii\n",
    "\n",
    "def upgma_biopython(distance_matrix, sequence_labels):\n",
    "    \"\"\"\n",
    "    Computes UPGMA clustering using Biopython's implementation.\n",
    "\n",
    "    Parameters:\n",
    "    ----------\n",
    "    distance_matrix : list of list of float\n",
    "        A symmetric matrix containing pairwise distances between sequences.\n",
    "    sequence_labels : list of str\n",
    "        List of sequence labels corresponding to the distance matrix.\n",
    "\n",
    "    Returns:\n",
    "    -------\n",
    "    Bio.Phylo.Tree\n",
    "        The UPGMA tree built using Biopython.\n",
    "    \"\"\"\n",
    "    # Convert the list-of-lists distance matrix into Biopython's DistanceMatrix format\n",
    "    num_sequences = len(sequence_labels)\n",
    "    matrix_data = [row[:i] for i, row in enumerate(distance_matrix, start=1)]  # Extract lower triangle (Biopython format)\n",
    "    \n",
    "    biopython_matrix = DistanceMatrix(names=sequence_labels, matrix=matrix_data)\n",
    "    \n",
    "    # Perform UPGMA clustering\n",
    "    constructor = DistanceTreeConstructor()\n",
    "    biopython_tree = constructor.upgma(biopython_matrix)\n",
    "    \n",
    "    return biopython_tree"
   ]
  },
  {
   "cell_type": "code",
   "execution_count": null,
   "metadata": {},
   "outputs": [],
   "source": [
    "sequences = [\"HER\", \"CAT\", \"CHAT\"]\n",
    "\n",
    "distance_matrix = mat_distances(sequences, blosum_m=True, gap_opening_score=-10, gap_extension_score=-2)\n",
    "\n",
    "tree_custom = UPGMA(sequences, blosum_m=True, gap_opening_score=-10, gap_extension_score=-2)\n",
    "tree_biopython = upgma_biopython(distance_matrix, sequences)"
   ]
  },
  {
   "cell_type": "code",
   "execution_count": null,
   "metadata": {},
   "outputs": [],
   "source": [
    "print(\"Custom UPGMA Tree:\")\n",
    "visualize_tree(tree_custom, sequences)"
   ]
  },
  {
   "cell_type": "code",
   "execution_count": null,
   "metadata": {},
   "outputs": [],
   "source": [
    "print(\"\\nBiopython UPGMA Tree:\")\n",
    "draw_ascii(tree_biopython)\n",
    "print(tree_biopython)"
   ]
  },
  {
   "cell_type": "markdown",
   "metadata": {},
   "source": [
    "## Multiple sequence alignment\n",
    "\n",
    "Now we will use UPGMA clustering and Needleman-Wunsch algorithm to align set of sequences."
   ]
  },
  {
   "cell_type": "code",
   "execution_count": null,
   "metadata": {},
   "outputs": [],
   "source": [
    "sequences = [\"HAT\", \"HARAT\", \"CAT\", \"CHAT\", \"HER\"]\n",
    "\n",
    "alignment = align_multiple_sequences(sequences, True)\n",
    "print()\n",
    "print_alignments(alignment)"
   ]
  },
  {
   "cell_type": "code",
   "execution_count": null,
   "metadata": {},
   "outputs": [],
   "source": [
    "sequences = [\"PYNSAIRMNMQEALIVIYSYYL\", \"MKVPNSRMENQGALIVIDSYYLDYI\", \"MPDNSAIRMNME\", \"MKVPYNSAIRMNECFI\", \"MKDPYNSGIRMNMQE\",\n",
    "             \"MKIPYNSAIRMNMQEANIYI\", \"AKVIYNMAIRMNMQEALIVIYSYY\", \"MKVPYYSAIRMNMVIWSYLQMMI\", \"MKVPINSAINMHMPEALIVIYSYY\",\n",
    "             \"MNVPYAIRMNMQEALIVIYSYYLWNG\", \"MKVPMNSAISNMAEALIVYSCYLH\", \"MKNPYNSHIRMNMQEALIVIESAY\", \"YNSRGNMQRALIVIYSYYHKVVKL\",\n",
    "             \"MKDEYNSAIRMMQEALIVIYSYYTLCKA\", \"MKVPNSAIRMNMVEALIYSYYLK\", \"MPVPYNSAIHSNMQE\", \"MKVPYNSAIMNMCEALIVIQSY\", \n",
    "             \"MVPPSLIRPNMQEALIVPSYLDFID\", \"MYQSARRMNMQEALISYYLQH\", \"MKVPYYSAICMNMQEA\"]\n",
    "\n",
    "alignment = align_multiple_sequences(sequences, True)\n",
    "print()\n",
    "print_alignments(alignment)"
   ]
  },
  {
   "cell_type": "markdown",
   "metadata": {},
   "source": [
    "### Evaluation\n",
    "\n",
    "This script compares the multiple sequence alignment (MSA) produced by our custom function `align_multiple_sequences` with the reference alignment from BALIbase.\n",
    "\n",
    "SP-score is a widely used metric in MSA evaluation. It measures the similarity between two alignments\n",
    "by counting how many columns (aligned residues) are identical in both alignments. This provides \n",
    "a fair and interpretable way to assess alignment accuracy, as structural or evolutionary relationships \n",
    "are often reflected in column-wise conservation."
   ]
  },
  {
   "cell_type": "code",
   "execution_count": null,
   "metadata": {},
   "outputs": [],
   "source": [
    "from Bio import AlignIO\n",
    "from Bio import pairwise2\n",
    "from Bio.Align import MultipleSeqAlignment\n",
    "from Bio import SeqIO"
   ]
  },
  {
   "cell_type": "code",
   "execution_count": null,
   "metadata": {},
   "outputs": [],
   "source": [
    "import os\n",
    "\n",
    "def sp_score(alignment1, alignment2):\n",
    "    \"\"\"\n",
    "    Computes Sum-of-Pairs (SP) score to compare two multiple sequence alignments.\n",
    "\n",
    "    Parameters:\n",
    "    ----------\n",
    "    alignment1 : list of str\n",
    "        The first alignment (e.g., from user's algorithm).\n",
    "    alignment2 : list of str\n",
    "        The reference alignment (e.g., from BALIbase).\n",
    "\n",
    "    Returns:\n",
    "    -------\n",
    "    float\n",
    "        The similarity score (1 = identical, 0 = completely different).\n",
    "    \"\"\"\n",
    "    total_pairs = 0\n",
    "    matching_pairs = 0\n",
    "\n",
    "    for col in zip(*alignment1):\n",
    "        total_pairs += 1\n",
    "        if col in zip(*alignment2):  # Check if column exists in reference alignment\n",
    "            matching_pairs += 1\n",
    "\n",
    "    return matching_pairs / total_pairs if total_pairs > 0 else 0"
   ]
  },
  {
   "cell_type": "code",
   "execution_count": null,
   "metadata": {},
   "outputs": [],
   "source": [
    "unaligned_file = \"../balibase/RV11.unaligned/BB11001.fasta\"\n",
    "aligned_file = \"../balibase/RV11.aligned/BB11001.fasta\"\n",
    "\n",
    "unaligned_sequences = [str(record.seq) for record in SeqIO.parse(unaligned_file, \"fasta\")]\n",
    "reference_alignment = [str(record.seq) for record in SeqIO.parse(aligned_file, \"fasta\")]\n",
    "\n",
    "aligned_sequences = align_multiple_sequences(unaligned_sequences, blosum_m=True)\n",
    "print_alignments(aligned_sequences)\n",
    "print(reference_alignment)\n",
    "\n",
    "similarity = sp_score(aligned_sequences, reference_alignment)\n",
    "print(\"SP score:\", similarity)"
   ]
  },
  {
   "cell_type": "code",
   "execution_count": null,
   "metadata": {},
   "outputs": [],
   "source": [
    "unaligned_file = \"../balibase/RV11.unaligned/BB11021.fasta\"\n",
    "aligned_file = \"../balibase/RV11.aligned/BB11021.fasta\"\n",
    "\n",
    "unaligned_sequences = [str(record.seq) for record in SeqIO.parse(unaligned_file, \"fasta\")]\n",
    "reference_alignment = [str(record.seq) for record in SeqIO.parse(aligned_file, \"fasta\")]\n",
    "\n",
    "aligned_sequences = align_multiple_sequences(unaligned_sequences, blosum_m=True)\n",
    "print_alignments(aligned_sequences)\n",
    "print(\"\\nReference alignment:\")\n",
    "print\n",
    "\n",
    "similarity = sp_score(aligned_sequences, reference_alignment)\n",
    "print(\"SP score:\", similarity)"
   ]
  },
  {
   "cell_type": "code",
   "execution_count": null,
   "metadata": {},
   "outputs": [],
   "source": [
    "unaligned_file = \"../balibase/RV11.unaligned/BB11030.fasta\"\n",
    "aligned_file = \"../balibase/RV11.aligned/BB11030.fasta\"\n",
    "\n",
    "unaligned_sequences = [str(record.seq) for record in SeqIO.parse(unaligned_file, \"fasta\")]\n",
    "reference_alignment = [str(record.seq) for record in SeqIO.parse(aligned_file, \"fasta\")]\n",
    "\n",
    "aligned_sequences = align_multiple_sequences(unaligned_sequences, blosum_m=True)\n",
    "print_alignments(aligned_sequences)\n",
    "print(\"\\nReference alignment:\")\n",
    "print\n",
    "\n",
    "similarity = sp_score(aligned_sequences, reference_alignment)\n",
    "print(\"SP score:\", similarity)"
   ]
  },
  {
   "cell_type": "code",
   "execution_count": null,
   "metadata": {},
   "outputs": [],
   "source": []
  }
 ],
 "metadata": {
  "kernelspec": {
   "display_name": "Python 3",
   "language": "python",
   "name": "python3"
  },
  "language_info": {
   "codemirror_mode": {
    "name": "ipython",
    "version": 3
   },
   "file_extension": ".py",
   "mimetype": "text/x-python",
   "name": "python",
   "nbconvert_exporter": "python",
   "pygments_lexer": "ipython3",
   "version": "3.11.1"
  }
 },
 "nbformat": 4,
 "nbformat_minor": 2
}
